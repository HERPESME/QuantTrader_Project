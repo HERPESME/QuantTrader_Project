{
 "cells": [
  {
   "cell_type": "code",
   "execution_count": null,
   "metadata": {
    "vscode": {
     "languageId": "plaintext"
    }
   },
   "outputs": [],
   "source": [
    "import pandas as pd\n",
    "import matplotlib.pyplot as plt\n",
    "import seaborn as sns\n",
    "\n",
    "# Load training reward log (assumes RLlib JSON format or custom log)\n",
    "# Example: Replace with your actual reward logging method\n",
    "data = pd.read_csv(\"results/training_rewards.csv\")\n",
    "\n",
    "# Plot reward over episodes\n",
    "plt.figure(figsize=(12, 6))\n",
    "sns.lineplot(x=\"episode\", y=\"reward\", data=data)\n",
    "plt.title(\"Training Reward Over Episodes\")\n",
    "plt.xlabel(\"Episode\")\n",
    "plt.ylabel(\"Reward\")\n",
    "plt.grid(True)\n",
    "plt.show()\n",
    "\n",
    "# Plot cumulative profit over episodes (if available)\n",
    "if \"profit\" in data.columns:\n",
    "    plt.figure(figsize=(12, 6))\n",
    "    sns.lineplot(x=\"episode\", y=\"profit\", data=data, color=\"green\")\n",
    "    plt.title(\"Cumulative Profit Over Episodes\")\n",
    "    plt.xlabel(\"Episode\")\n",
    "    plt.ylabel(\"Profit\")\n",
    "    plt.grid(True)\n",
    "    plt.show()\n"
   ]
  }
 ],
 "metadata": {
  "language_info": {
   "name": "python"
  }
 },
 "nbformat": 4,
 "nbformat_minor": 2
}
